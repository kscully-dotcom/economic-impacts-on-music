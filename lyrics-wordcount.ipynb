{
 "cells": [
  {
   "cell_type": "code",
   "execution_count": null,
   "metadata": {},
   "outputs": [],
   "source": [
    "import sys\n",
    "from pyspark import SparkConf, SparkContext\n",
    "# get threshold\n",
    "threshold = int(sys.argv[2])\n",
    "\n",
    "# read in text file and split each document into words\n",
    "tokenized = sc.textFile(sys.argv[1]).flatMap(lambda line: line.split(\" \"))\n",
    "\n",
    "# count the occurrence of each word\n",
    "wordCounts = tokenized.map(lambda word: (word, 1)).reduceByKey(lambda v1,v2:v1 +v2)\n",
    "\n",
    "# filter out words with fewer than threshold occurrences\n",
    "filtered = wordCounts.filter(lambda pair:pair[1] >= threshold)\n",
    "\n",
    "# count characters\n",
    "charCounts = filtered.flatMap(lambda pair:pair[0]).map(lambda c: c).map(lambda c: (c, 1)).reduceByKey(lambda v1,v2:v1 +v2)\n",
    "\n",
    "list = charCounts.collect()\n",
    "print repr(list)[1:-1]"
   ]
  }
 ],
 "metadata": {
  "language_info": {
   "name": "python"
  },
  "orig_nbformat": 4
 },
 "nbformat": 4,
 "nbformat_minor": 2
}
